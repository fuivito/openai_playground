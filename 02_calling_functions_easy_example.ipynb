{
 "cells": [
  {
   "cell_type": "code",
   "execution_count": 1,
   "id": "e558da30-143a-498a-be91-f72349a308e4",
   "metadata": {},
   "outputs": [],
   "source": [
    "from openai import OpenAI\n",
    "client = OpenAI()"
   ]
  },
  {
   "cell_type": "markdown",
   "id": "ba356051-e007-416d-a00b-e201734dc342",
   "metadata": {},
   "source": [
    "### Defining the assistant\n",
    "\n",
    "\"tools\" argument \n",
    "    - it is a dictionary specifying which functions can be used\n",
    "    - parameters used in the function\n",
    "    - description of the functions and of the parameters used.\n",
    "\n",
    "Specifying the tools here, will allow GPT to understand which functions have to be called and which parameters"
   ]
  },
  {
   "cell_type": "code",
   "execution_count": 2,
   "id": "793c32d9-59c6-4bcb-b58a-f91c6c4c4ab5",
   "metadata": {},
   "outputs": [],
   "source": [
    "assistant = client.beta.assistants.create(\n",
    "  instructions=\"You are a weather bot. Use the provided functions to answer questions.\",\n",
    "  model=\"gpt-4-turbo\",\n",
    "  tools=[\n",
    "    {\n",
    "      \"type\": \"function\",\n",
    "      \"function\": {\n",
    "        \"name\": \"get_current_temperature\",\n",
    "        \"description\": \"Get the current temperature for a specific location\",\n",
    "        \"parameters\": {\n",
    "          \"type\": \"object\",\n",
    "          \"properties\": {\n",
    "            \"location\": {\n",
    "              \"type\": \"string\",\n",
    "              \"description\": \"The city and state, e.g., San Francisco, CA\"\n",
    "            },\n",
    "            \"unit\": {\n",
    "              \"type\": \"string\",\n",
    "              \"enum\": [\"Celsius\", \"Fahrenheit\"],\n",
    "              \"description\": \"The temperature unit to use. Infer this from the user's location.\"\n",
    "            }\n",
    "          },\n",
    "          \"required\": [\"location\", \"unit\"]\n",
    "        }\n",
    "      }\n",
    "    },\n",
    "    {\n",
    "      \"type\": \"function\",\n",
    "      \"function\": {\n",
    "        \"name\": \"get_rain_probability\",\n",
    "        \"description\": \"Get the probability of rain for a specific location\",\n",
    "        \"parameters\": {\n",
    "          \"type\": \"object\",\n",
    "          \"properties\": {\n",
    "            \"location\": {\n",
    "              \"type\": \"string\",\n",
    "              \"description\": \"The city and state, e.g., San Francisco, CA\"\n",
    "            }\n",
    "          },\n",
    "          \"required\": [\"location\"]\n",
    "        }\n",
    "      }\n",
    "    }\n",
    "  ]\n",
    ")"
   ]
  },
  {
   "cell_type": "markdown",
   "id": "4e0f1fac-b18d-495a-88a3-4aa1ece9d1ed",
   "metadata": {},
   "source": [
    "### Creating a thread\n",
    "\n",
    "Give instructions to the GPT"
   ]
  },
  {
   "cell_type": "code",
   "execution_count": 3,
   "id": "03672485-585b-44a6-ac67-6ad7f9b440a7",
   "metadata": {},
   "outputs": [],
   "source": [
    "thread = client.beta.threads.create()\n",
    "message = client.beta.threads.messages.create(\n",
    "  thread_id=thread.id,\n",
    "  role=\"user\",\n",
    "  content=\"What's the weather in London today and the likelihood it'll rain?\",\n",
    ")"
   ]
  },
  {
   "cell_type": "markdown",
   "id": "1898afeb-2175-4263-a3d0-db254b150b75",
   "metadata": {},
   "source": [
    "### Run"
   ]
  },
  {
   "cell_type": "code",
   "execution_count": 20,
   "id": "6dc519fd-a3b2-4108-b738-b9625af6975d",
   "metadata": {},
   "outputs": [],
   "source": [
    "run = client.beta.threads.runs.create_and_poll(\n",
    "  thread_id=thread.id,\n",
    "  assistant_id=assistant.id,\n",
    ")"
   ]
  },
  {
   "cell_type": "markdown",
   "id": "a8ec03f0-6fcd-452a-b073-dbe18c7c3c8b",
   "metadata": {},
   "source": [
    "### Analyse output\n",
    "\n",
    "So now the API was called and the model run.\n",
    "\n",
    "Given we passed some tools, the GPT will try to call the right functions - if necessary.\n",
    "\n",
    "If tools are called then **run.status == requires_action**, this will tell us tools need to be used.\n",
    "\n",
    "GPT won't allow the code to run auotmatically and we have to pipe the GPT output into the code to run the functions we want to be called.\n",
    "\n",
    "This is an example and the functions simply returns 57 degrees, and 6% chance of rain"
   ]
  },
  {
   "cell_type": "code",
   "execution_count": 23,
   "id": "5aedd177-a3e2-4085-a7fa-3c1143438ebd",
   "metadata": {},
   "outputs": [
    {
     "name": "stdout",
     "output_type": "stream",
     "text": [
      "requires_action\n"
     ]
    }
   ],
   "source": [
    "if run.status == 'completed':\n",
    "  messages = client.beta.threads.messages.list(\n",
    "    thread_id=thread.id\n",
    "  )\n",
    "  print(messages)\n",
    "else:\n",
    "  print(run.status)\n",
    " \n",
    "# Define the list to store tool outputs\n",
    "tool_outputs = []"
   ]
  },
  {
   "cell_type": "markdown",
   "id": "84983916-2343-49c9-b083-2bba8fc8d6d5",
   "metadata": {},
   "source": [
    "**And these are the functions that GPT wants to call and the relative parameters**"
   ]
  },
  {
   "cell_type": "code",
   "execution_count": 29,
   "id": "c1a59eee-77aa-42be-96c7-c5ad239f9d90",
   "metadata": {},
   "outputs": [
    {
     "data": {
      "text/plain": [
       "[RequiredActionFunctionToolCall(id='call_Ix8b8lQ4JA0W5zooEi5m8hmj', function=Function(arguments='{\"location\": \"London, UK\", \"unit\": \"Celsius\"}', name='get_current_temperature'), type='function'),\n",
       " RequiredActionFunctionToolCall(id='call_avs1mEO80smIHaHl2DYuqWBf', function=Function(arguments='{\"location\": \"London, UK\"}', name='get_rain_probability'), type='function')]"
      ]
     },
     "execution_count": 29,
     "metadata": {},
     "output_type": "execute_result"
    }
   ],
   "source": [
    "run.required_action.submit_tool_outputs.tool_calls"
   ]
  },
  {
   "cell_type": "markdown",
   "id": "b03e32c6-6422-4bda-bffb-3ac73d439ba9",
   "metadata": {},
   "source": [
    "### Tool output\n",
    "\n",
    "We create a list **tool_output**, where we sget the function output and the **tool_call_id**.\n",
    "\n",
    "the tool id is necessary because we will feed back to the GPT the functions output, but we have to let the GPT knows to which function the output is referring to.\n",
    "\n",
    "The GPT will then be able to provide the correct answer, using the tools you gave it."
   ]
  },
  {
   "cell_type": "code",
   "execution_count": null,
   "id": "c19700d2-143c-414c-9886-1718ef8ce928",
   "metadata": {},
   "outputs": [],
   "source": [
    "# Loop through each tool in the required action section\n",
    "for tool in run.required_action.submit_tool_outputs.tool_calls:\n",
    "  if tool.function.name == \"get_current_temperature\":\n",
    "    tool_outputs.append({\n",
    "      \"tool_call_id\": tool.id,\n",
    "      \"output\": \"57\"  ### This is the hard-coded output of what the function should give\n",
    "    })\n",
    "  elif tool.function.name == \"get_rain_probability\":\n",
    "    tool_outputs.append({\n",
    "      \"tool_call_id\": tool.id,\n",
    "      \"output\": \"0.06\"   ### This is the hard-coded output of what the function should give\n",
    "    })"
   ]
  },
  {
   "cell_type": "markdown",
   "id": "97b02755-60cb-4eb1-b504-e264bb1dadc8",
   "metadata": {},
   "source": [
    "### Submit all tool outputs at once after collecting them in a list"
   ]
  },
  {
   "cell_type": "code",
   "execution_count": null,
   "id": "ebf6edfc-08c5-4187-b36c-d299b3bc7d92",
   "metadata": {},
   "outputs": [],
   "source": [
    "if tool_outputs:\n",
    "  try:\n",
    "    run = client.beta.threads.runs.submit_tool_outputs_and_poll(\n",
    "      thread_id=thread.id,\n",
    "      run_id=run.id,\n",
    "      tool_outputs=tool_outputs\n",
    "    )\n",
    "    print(\"Tool outputs submitted successfully.\")\n",
    "  except Exception as e:\n",
    "    print(\"Failed to submit tool outputs:\", e)\n",
    "else:\n",
    "  print(\"No tool outputs to submit.\")\n",
    " "
   ]
  },
  {
   "cell_type": "code",
   "execution_count": 7,
   "id": "d2c45e5c-0d91-49f3-ad69-75e57acabfd1",
   "metadata": {
    "scrolled": true
   },
   "outputs": [
    {
     "name": "stdout",
     "output_type": "stream",
     "text": [
      "SyncCursorPage[Message](data=[Message(id='msg_ScT2jGZEgWbha7obkWiE25fa', assistant_id='asst_Y50jqDWL3WPuauZzIn40P0Vg', completed_at=None, content=[TextContentBlock(text=Text(annotations=[], value='The current temperature in London is 57°C, and the likelihood of rain today is 6%.'), type='text')], created_at=1713705254, file_ids=[], incomplete_at=None, incomplete_details=None, metadata={}, object='thread.message', role='assistant', run_id='run_0GkOgY8XjT4FH6zxfA33RZ0V', status=None, thread_id='thread_BrLGDifwJvNy6rPmv5W0ihdu'), Message(id='msg_OJLz0jKQ1GJL0Q0LyLtPmc7H', assistant_id=None, completed_at=None, content=[TextContentBlock(text=Text(annotations=[], value=\"What's the weather in London today and the likelihood it'll rain?\"), type='text')], created_at=1713705248, file_ids=[], incomplete_at=None, incomplete_details=None, metadata={}, object='thread.message', role='user', run_id=None, status=None, thread_id='thread_BrLGDifwJvNy6rPmv5W0ihdu')], object='list', first_id='msg_ScT2jGZEgWbha7obkWiE25fa', last_id='msg_OJLz0jKQ1GJL0Q0LyLtPmc7H', has_more=False)\n"
     ]
    }
   ],
   "source": [
    "if run.status == 'completed':\n",
    "  messages = client.beta.threads.messages.list(\n",
    "    thread_id=thread.id\n",
    "  )\n",
    "  print(messages)\n",
    "else:\n",
    "  print(run.status)"
   ]
  },
  {
   "cell_type": "code",
   "execution_count": null,
   "id": "99bf593d-9378-4143-81ce-02824b2cfc46",
   "metadata": {},
   "outputs": [],
   "source": []
  },
  {
   "cell_type": "code",
   "execution_count": null,
   "id": "0c5de980-a961-4323-9f99-87d694f34417",
   "metadata": {},
   "outputs": [],
   "source": []
  },
  {
   "cell_type": "code",
   "execution_count": null,
   "id": "98f4aa37-5bfa-4d8b-8858-709c49962bbf",
   "metadata": {},
   "outputs": [],
   "source": []
  },
  {
   "cell_type": "markdown",
   "id": "7728019f-5bed-4bc9-8c48-25237b61c39d",
   "metadata": {},
   "source": [
    "# With Streaming"
   ]
  },
  {
   "cell_type": "code",
   "execution_count": 4,
   "id": "ae94b3d2-2441-4cee-8c1c-3322a2e3eca8",
   "metadata": {},
   "outputs": [
    {
     "name": "stdout",
     "output_type": "stream",
     "text": [
      "The current temperature in London is 57°C, and the likelihood of rain today is 6%.\n"
     ]
    }
   ],
   "source": [
    "from typing_extensions import override\n",
    "from openai import AssistantEventHandler\n",
    " \n",
    "class EventHandler(AssistantEventHandler):\n",
    "    @override\n",
    "    def on_event(self, event):\n",
    "      # Retrieve events that are denoted with 'requires_action'\n",
    "      # since these will have our tool_calls\n",
    "      if event.event == 'thread.run.requires_action':\n",
    "        run_id = event.data.id  # Retrieve the run ID from the event data\n",
    "        self.handle_requires_action(event.data, run_id)\n",
    " \n",
    "    def handle_requires_action(self, data, run_id):\n",
    "      tool_outputs = []\n",
    "        \n",
    "      for tool in data.required_action.submit_tool_outputs.tool_calls:\n",
    "        if tool.function.name == \"get_current_temperature\":\n",
    "          tool_outputs.append({\"tool_call_id\": tool.id, \"output\": \"57\"})\n",
    "        elif tool.function.name == \"get_rain_probability\":\n",
    "          tool_outputs.append({\"tool_call_id\": tool.id, \"output\": \"0.06\"})\n",
    "        \n",
    "      # Submit all tool_outputs at the same time\n",
    "      self.submit_tool_outputs(tool_outputs, run_id)\n",
    " \n",
    "    def submit_tool_outputs(self, tool_outputs, run_id):\n",
    "      # Use the submit_tool_outputs_stream helper\n",
    "      with client.beta.threads.runs.submit_tool_outputs_stream(\n",
    "        thread_id=self.current_run.thread_id,\n",
    "        run_id=self.current_run.id,\n",
    "        tool_outputs=tool_outputs,\n",
    "        event_handler=EventHandler(),\n",
    "      ) as stream:\n",
    "        for text in stream.text_deltas:\n",
    "          print(text, end=\"\", flush=True)\n",
    "        print()\n",
    " \n",
    " \n",
    "with client.beta.threads.runs.stream(\n",
    "  thread_id=thread.id,\n",
    "  assistant_id=assistant.id,\n",
    "  event_handler=EventHandler()\n",
    ") as stream:\n",
    "  stream.until_done()"
   ]
  },
  {
   "cell_type": "code",
   "execution_count": null,
   "id": "6151edf1-acfb-4ca1-85af-d7eb533529b6",
   "metadata": {},
   "outputs": [],
   "source": []
  }
 ],
 "metadata": {
  "kernelspec": {
   "display_name": "Python 3 (ipykernel)",
   "language": "python",
   "name": "python3"
  },
  "language_info": {
   "codemirror_mode": {
    "name": "ipython",
    "version": 3
   },
   "file_extension": ".py",
   "mimetype": "text/x-python",
   "name": "python",
   "nbconvert_exporter": "python",
   "pygments_lexer": "ipython3",
   "version": "3.11.7"
  }
 },
 "nbformat": 4,
 "nbformat_minor": 5
}

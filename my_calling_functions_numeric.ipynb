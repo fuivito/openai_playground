{
 "cells": [
  {
   "cell_type": "markdown",
   "id": "0eb7e6a0-3042-4696-8121-be3d7d1cc374",
   "metadata": {},
   "source": [
    "# Description"
   ]
  },
  {
   "cell_type": "markdown",
   "id": "b1def0f5-4da9-4781-ba7a-17696822ab30",
   "metadata": {},
   "source": [
    "Calling average and standard deviation functions/"
   ]
  },
  {
   "cell_type": "code",
   "execution_count": 13,
   "id": "2177a176-2cbb-4e47-b14b-b7e0adf98240",
   "metadata": {},
   "outputs": [],
   "source": [
    "import pandas as pd\n",
    "import numpy as np"
   ]
  },
  {
   "cell_type": "code",
   "execution_count": 2,
   "id": "fefaa86e-e3e3-4b48-8f3e-032058aa53a8",
   "metadata": {},
   "outputs": [],
   "source": [
    "from openai import OpenAI\n",
    "client = OpenAI()"
   ]
  },
  {
   "cell_type": "code",
   "execution_count": 3,
   "id": "58e84a74-6488-43c9-9674-a177c8dbc724",
   "metadata": {},
   "outputs": [
    {
     "data": {
      "text/plain": [
       "numpy.ndarray"
      ]
     },
     "execution_count": 3,
     "metadata": {},
     "output_type": "execute_result"
    }
   ],
   "source": [
    "type(np.array([1,2,3]))"
   ]
  },
  {
   "cell_type": "code",
   "execution_count": 4,
   "id": "02e5eab7-d3e2-4d3b-b9bb-1b2d89db2153",
   "metadata": {},
   "outputs": [],
   "source": [
    "assistant = client.beta.assistants.create(\n",
    "  instructions=\"You are a financial quantitative portfolio manager assistant\",\n",
    "  model=\"gpt-4-turbo\",\n",
    "  tools=[\n",
    "    {\n",
    "      \"type\": \"function\",\n",
    "      \"function\": {\n",
    "        \"name\": \"mean\",\n",
    "        \"description\": \"Calculate arithmetic mean\",\n",
    "        \"parameters\": {\n",
    "          \"type\": \"object\",\n",
    "          \"properties\": {\n",
    "            \"data\": {\n",
    "              \"type\": \"array\",\n",
    "              \"items\": {\n",
    "                \"type\": \"number\"\n",
    "              }\n",
    "            }\n",
    "          },\n",
    "          \"required\": [\"data\"]\n",
    "        }\n",
    "      }\n",
    "    },\n",
    "    {\n",
    "      \"type\": \"function\",\n",
    "      \"function\": {\n",
    "        \"name\": \"std\",\n",
    "        \"description\": \"Calculate standard deviation\",\n",
    "        \"parameters\": {\n",
    "          \"type\": \"object\",\n",
    "          \"properties\": {\n",
    "            \"data\": {\n",
    "              \"type\": \"array\",\n",
    "              \"items\": {\n",
    "                \"type\": \"number\"\n",
    "              }\n",
    "            }\n",
    "          },\n",
    "          \"required\": [\"data\"]\n",
    "        }\n",
    "      }\n",
    "    }\n",
    "  ]\n",
    ")\n"
   ]
  },
  {
   "cell_type": "markdown",
   "id": "2da07c91-272a-4b77-97bb-82c92ff80d17",
   "metadata": {},
   "source": [
    "### Creating a thread\n",
    "\n",
    "Give instructions to the GPT"
   ]
  },
  {
   "cell_type": "code",
   "execution_count": 5,
   "id": "acb102c9-5789-47ee-a122-a64e7a4bc198",
   "metadata": {},
   "outputs": [],
   "source": [
    "thread = client.beta.threads.create()\n",
    "message = client.beta.threads.messages.create(\n",
    "  thread_id=thread.id,\n",
    "  role=\"user\",\n",
    "  content=\"\"\"Calculate both the mean and standard deviation of this series of numbers:\n",
    "              \n",
    "            [1,2,3,4,5,6,7,8,9,10]\n",
    "    \"\"\",\n",
    ")"
   ]
  },
  {
   "cell_type": "markdown",
   "id": "8e9ba2c5-99a0-4000-acf7-42cc11077935",
   "metadata": {},
   "source": [
    "### Run"
   ]
  },
  {
   "cell_type": "code",
   "execution_count": 6,
   "id": "47ea9884-ca85-45ea-b9bd-621d94e167f4",
   "metadata": {},
   "outputs": [],
   "source": [
    "run = client.beta.threads.runs.create_and_poll(\n",
    "  thread_id=thread.id,\n",
    "  assistant_id=assistant.id,\n",
    ")"
   ]
  },
  {
   "cell_type": "markdown",
   "id": "5e32d427-55bc-464a-8f1b-bae21bbc0d72",
   "metadata": {},
   "source": [
    "### Analyse output\n",
    "\n",
    "So now the API was called and the model run.\n",
    "\n",
    "Given we passed some tools, the GPT will try to call the right functions - if necessary.\n",
    "\n",
    "If tools are called then **run.status == requires_action**, this will tell us tools need to be used.\n",
    "\n",
    "GPT won't allow the code to run auotmatically and we have to pipe the GPT output into the code to run the functions we want to be called.\n",
    "\n",
    "This is an example and the functions simply returns 57 degrees, and 6% chance of rain"
   ]
  },
  {
   "cell_type": "code",
   "execution_count": 7,
   "id": "5d6625ca-de43-41d9-9760-b3609773049b",
   "metadata": {},
   "outputs": [
    {
     "name": "stdout",
     "output_type": "stream",
     "text": [
      "requires_action\n"
     ]
    }
   ],
   "source": [
    "if run.status == 'completed':\n",
    "  messages = client.beta.threads.messages.list(\n",
    "    thread_id=thread.id\n",
    "  )\n",
    "  print(messages)\n",
    "else:\n",
    "  print(run.status)\n",
    " \n",
    "# Define the list to store tool outputs\n",
    "tool_outputs = []"
   ]
  },
  {
   "cell_type": "markdown",
   "id": "788e6cee-ed8b-4fa3-934e-6695aac57707",
   "metadata": {},
   "source": [
    "**And these are the functions that GPT wants to call and the relative parameters**"
   ]
  },
  {
   "cell_type": "code",
   "execution_count": 8,
   "id": "c7007cbc-4fc8-4f75-86cd-0f14abefddc6",
   "metadata": {},
   "outputs": [
    {
     "data": {
      "text/plain": [
       "[RequiredActionFunctionToolCall(id='call_MKaxUZPn88rCbqLrgsHn0l3T', function=Function(arguments='{\"data\": [1, 2, 3, 4, 5, 6, 7, 8, 9, 10]}', name='mean'), type='function'),\n",
       " RequiredActionFunctionToolCall(id='call_ou5qX7q9xZckfak3LWGzrqBn', function=Function(arguments='{\"data\": [1, 2, 3, 4, 5, 6, 7, 8, 9, 10]}', name='std'), type='function')]"
      ]
     },
     "execution_count": 8,
     "metadata": {},
     "output_type": "execute_result"
    }
   ],
   "source": [
    "run.required_action.submit_tool_outputs.tool_calls"
   ]
  },
  {
   "cell_type": "markdown",
   "id": "ae794536-d664-44d2-bc74-a02e7ebb6e0f",
   "metadata": {},
   "source": [
    "### Tool output\n",
    "\n",
    "We create a list **tool_output**, where we sget the function output and the **tool_call_id**.\n",
    "\n",
    "the tool id is necessary because we will feed back to the GPT the functions output, but we have to let the GPT knows to which function the output is referring to.\n",
    "\n",
    "The GPT will then be able to provide the correct answer, using the tools you gave it."
   ]
  },
  {
   "cell_type": "code",
   "execution_count": 9,
   "id": "461c68ba-08d5-439e-add8-bbdbbbf98dd8",
   "metadata": {},
   "outputs": [
    {
     "name": "stdout",
     "output_type": "stream",
     "text": [
      "Tool outputs submitted successfully.\n"
     ]
    }
   ],
   "source": [
    "import numpy as np\n",
    "\n",
    "tool_outputs = []\n",
    "\n",
    "# Loop through each tool in the required action section\n",
    "for tool in run.required_action.submit_tool_outputs.tool_calls:\n",
    "    arguments = json.loads(tool.function.arguments)\n",
    "    \n",
    "    if tool.function.name == \"mean\":\n",
    "        # Retrieve data from tool parameters\n",
    "        data = arguments['data']\n",
    "        # Compute mean and append to tool_outputs\n",
    "        output_value = str(np.mean(data))\n",
    "        tool_outputs.append({\n",
    "            \"tool_call_id\": tool.id,\n",
    "            \"output\": output_value\n",
    "        })\n",
    "    elif tool.function.name == \"std\":\n",
    "        # Retrieve data from tool parameters\n",
    "        data = arguments['data']\n",
    "        # Compute standard deviation and append to tool_outputs\n",
    "        output_value = str(np.std(data))\n",
    "        tool_outputs.append({\n",
    "            \"tool_call_id\": tool.id,\n",
    "            \"output\": output_value\n",
    "        })\n",
    "\n",
    "if tool_outputs:\n",
    "    try:\n",
    "        run = client.beta.threads.runs.submit_tool_outputs_and_poll(\n",
    "            thread_id=thread.id,\n",
    "            run_id=run.id,\n",
    "            tool_outputs=tool_outputs\n",
    "        )\n",
    "        print(\"Tool outputs submitted successfully.\")\n",
    "    except Exception as e:\n",
    "        print(\"Failed to submit tool outputs:\", e)\n",
    "else:\n",
    "    print(\"No tool outputs to submit.\")\n"
   ]
  },
  {
   "cell_type": "code",
   "execution_count": 11,
   "id": "10a431a6-0ad1-4a09-85d8-8cbf7ea3a9b5",
   "metadata": {
    "scrolled": true
   },
   "outputs": [
    {
     "name": "stdout",
     "output_type": "stream",
     "text": [
      "SyncCursorPage[Message](data=[Message(id='msg_ONT98fi81ERWZK8hkc2KmGJD', assistant_id='asst_O3w8tazAUeqOy042e2eTfeW3', completed_at=None, content=[TextContentBlock(text=Text(annotations=[], value='The mean of the series is 5.5, and the standard deviation is approximately 2.872.'), type='text')], created_at=1713712521, file_ids=[], incomplete_at=None, incomplete_details=None, metadata={}, object='thread.message', role='assistant', run_id='run_7uDcwWCXMQdvq5n00eCiqVwh', status=None, thread_id='thread_LYgCQpvVNdJFSPoTLG1GdLGW'), Message(id='msg_KnDBqmF5z3XuDM2X5kfC2X8N', assistant_id=None, completed_at=None, content=[TextContentBlock(text=Text(annotations=[], value='Calculate both the mean and standard deviation of this series of numbers:\\n              \\n            [1,2,3,4,5,6,7,8,9,10]\\n    '), type='text')], created_at=1713712514, file_ids=[], incomplete_at=None, incomplete_details=None, metadata={}, object='thread.message', role='user', run_id=None, status=None, thread_id='thread_LYgCQpvVNdJFSPoTLG1GdLGW')], object='list', first_id='msg_ONT98fi81ERWZK8hkc2KmGJD', last_id='msg_KnDBqmF5z3XuDM2X5kfC2X8N', has_more=False)\n"
     ]
    }
   ],
   "source": [
    "if run.status == 'completed':\n",
    "  messages = client.beta.threads.messages.list(\n",
    "    thread_id=thread.id\n",
    "  )\n",
    "  print(messages)\n",
    "else:\n",
    "  print(run.status)"
   ]
  }
 ],
 "metadata": {
  "kernelspec": {
   "display_name": "Python 3 (ipykernel)",
   "language": "python",
   "name": "python3"
  },
  "language_info": {
   "codemirror_mode": {
    "name": "ipython",
    "version": 3
   },
   "file_extension": ".py",
   "mimetype": "text/x-python",
   "name": "python",
   "nbconvert_exporter": "python",
   "pygments_lexer": "ipython3",
   "version": "3.11.7"
  }
 },
 "nbformat": 4,
 "nbformat_minor": 5
}

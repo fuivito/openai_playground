{
 "cells": [
  {
   "cell_type": "code",
   "execution_count": null,
   "id": "ffb71d64-52a4-45fe-8713-e444d45f12e5",
   "metadata": {},
   "outputs": [],
   "source": [
    "from openai import OpenAI\n",
    "client = OpenAI()"
   ]
  },
  {
   "cell_type": "code",
   "execution_count": 13,
   "id": "cc7c5b52-4b19-4e89-9987-4e52a8c046d1",
   "metadata": {},
   "outputs": [],
   "source": [
    "from typing_extensions import override\n",
    "from openai import AssistantEventHandler\n",
    " \n",
    "# First, we create a EventHandler class to define\n",
    "# how we want to handle the events in the response stream.\n",
    " \n",
    "class EventHandler(AssistantEventHandler):    \n",
    "  @override\n",
    "  def on_text_created(self, text) -> None:\n",
    "    print(f\"\\nassistant > \", end=\"\", flush=True)\n",
    "      \n",
    "  @override\n",
    "  def on_text_delta(self, delta, snapshot):\n",
    "    print(delta.value, end=\"\", flush=True)\n",
    "      \n",
    "  def on_tool_call_created(self, tool_call):\n",
    "    print(f\"\\nassistant > {tool_call.type}\\n\", flush=True)\n",
    "  \n",
    "  def on_tool_call_delta(self, delta, snapshot):\n",
    "    if delta.type == 'code_interpreter':\n",
    "      if delta.code_interpreter.input:\n",
    "        print(delta.code_interpreter.input, end=\"\", flush=True)\n",
    "      if delta.code_interpreter.outputs:\n",
    "        print(f\"\\n\\noutput >\", flush=True)\n",
    "        for output in delta.code_interpreter.outputs:\n",
    "          if output.type == \"logs\":\n",
    "            print(f\"\\n{output.logs}\", flush=True)\n",
    " \n"
   ]
  },
  {
   "cell_type": "code",
   "execution_count": null,
   "id": "658bfca1-544e-4f92-91c3-7450a0a4f69e",
   "metadata": {},
   "outputs": [],
   "source": [
    "assistant = client.beta.assistants.create(\n",
    "  name=\"Math Tutor\",\n",
    "  instructions=\"You are a personal math tutor. Write and run code to answer math questions. Always run the code to answer.\",\n",
    "  tools=[{\"type\": \"code_interpreter\"}],\n",
    "  model=\"gpt-4-turbo\",\n",
    ")"
   ]
  },
  {
   "cell_type": "code",
   "execution_count": 8,
   "id": "56dcfef9-f397-4012-baf2-39c53034c1f4",
   "metadata": {},
   "outputs": [],
   "source": [
    "thread = client.beta.threads.create()"
   ]
  },
  {
   "cell_type": "code",
   "execution_count": 10,
   "id": "7a993dd4-21f9-4934-a19a-249b63272ca1",
   "metadata": {},
   "outputs": [],
   "source": [
    "message = client.beta.threads.messages.create(\n",
    "  thread_id=thread.id,\n",
    "  role=\"user\",\n",
    "  content=\"Plot a scatterplot with these data: x=[1,2,3,4,5], y=[10,11,12,13,14]\"\n",
    ")"
   ]
  },
  {
   "cell_type": "code",
   "execution_count": 7,
   "id": "2cf85a98-5636-41cf-b858-9a2480e7014b",
   "metadata": {},
   "outputs": [
    {
     "data": {
      "text/plain": [
       "Message(id='msg_2GGuLMsE6oF3a5236TNc3UEd', assistant_id=None, completed_at=None, content=[TextContentBlock(text=Text(annotations=[], value='I need to solve the equation `3x + 11 = 14`. Can you help me?'), type='text')], created_at=1714150039, file_ids=[], incomplete_at=None, incomplete_details=None, metadata={}, object='thread.message', role='user', run_id=None, status=None, thread_id='thread_fVgN53S8LrxsDxvuCx1yox1J')"
      ]
     },
     "execution_count": 7,
     "metadata": {},
     "output_type": "execute_result"
    }
   ],
   "source": [
    "message"
   ]
  },
  {
   "cell_type": "code",
   "execution_count": null,
   "id": "fd838c94-0216-454c-bf69-37debf3ad36b",
   "metadata": {},
   "outputs": [],
   "source": [
    "pd.DataFrame({'CPI':"
   ]
  },
  {
   "cell_type": "code",
   "execution_count": 11,
   "id": "ed000a70-4be2-484a-be5f-e3704e11e555",
   "metadata": {},
   "outputs": [],
   "source": [
    "# message = client.beta.threads.messages.create(\n",
    "#   thread_id=thread.id,\n",
    "#   role=\"user\",\n",
    "#   content=\"Create a pandas dataframe with the following columns. DATE: month end dates from January 2023 until January 2024. CPI: random values between -1 and 1. SPX: values from 100 to 200 in crescent order but add some randomness  \"\n",
    "# )"
   ]
  },
  {
   "cell_type": "code",
   "execution_count": 12,
   "id": "f6a81059-78da-4e3a-93f4-945a57c4b2a0",
   "metadata": {},
   "outputs": [
    {
     "name": "stdout",
     "output_type": "stream",
     "text": [
      "\n",
      "assistant > code_interpreter\n",
      "\n",
      "import matplotlib.pyplot as plt\n",
      "\n",
      "# Given data\n",
      "x = [1, 2, 3, 4, 5]\n",
      "y = [10, 11, 12, 13, 14]\n",
      "\n",
      "# Create a scatter plot\n",
      "plt.figure(figsize=(8, 5))\n",
      "plt.scatter(x, y, color='blue', marker='o')\n",
      "plt.title('Scatter Plot')\n",
      "plt.xlabel('x')\n",
      "plt.ylabel('y')\n",
      "plt.grid(True)\n",
      "plt.show()\n",
      "\n",
      "output >\n",
      "\n",
      "assistant > Here is the scatter plot for the data you provided, with \\( x = [1, 2, 3, 4, 5] \\) and \\( y = [10, 11, 12, 13, 14] \\). If you need any modifications or additional analysis, please let me know!"
     ]
    }
   ],
   "source": [
    "with client.beta.threads.runs.stream(\n",
    "  thread_id=thread.id,\n",
    "  assistant_id=assistant.id,\n",
    "  instructions=\"Please address the user as Jane Doe. The user has a premium account.\",\n",
    "  event_handler=EventHandler(),\n",
    ") as stream:\n",
    "  stream.until_done()"
   ]
  },
  {
   "cell_type": "code",
   "execution_count": null,
   "id": "bf32a7a2-1612-46b4-81ad-68dd52d92414",
   "metadata": {},
   "outputs": [],
   "source": []
  },
  {
   "cell_type": "code",
   "execution_count": 19,
   "id": "aa8b184b-15da-489c-92c5-84ec88b0a7b1",
   "metadata": {},
   "outputs": [
    {
     "name": "stdout",
     "output_type": "stream",
     "text": [
      "\n",
      "assistant > code_interpreter\n",
      "\n",
      "# Creating a DataFrame as specified and saving it as a global variable\n",
      "def create_data():\n",
      "    global df  # Define df as a global variable\n",
      "    \n",
      "    # Creating a date range for 10 consecutive end of month dates\n",
      "    dates = pd.date_range(start=\"2023-01-31\", periods=10, freq='M')\n",
      "\n",
      "    # Generating plausible values for CPI and SPX\n",
      "    cpi_values = np.random.normal(loc=260, scale=3, size=10)  # Simulating CPI centered around 260\n",
      "    spx_values = np.random.normal(loc=4200, scale=150, size=10)  # Simulating S&P 500 index centered around 4200\n",
      "\n",
      "    # Creating the DataFrame\n",
      "    data = {\n",
      "        'DATE': dates,\n",
      "        'CPI': cpi_values,\n",
      "        'SPX': spx_values\n",
      "    }\n",
      "    df = pd.DataFrame(data)\n",
      "\n",
      "create_data()  # Initialize the DataFrame globally\n",
      "df  # Display the DataFrame\n",
      "\n",
      "output >\n",
      "\n",
      "        DATE         CPI          SPX\n",
      "0 2023-01-31  258.131433  4382.189997\n",
      "1 2023-02-28  257.197114  4462.182440\n",
      "2 2023-03-31  255.573507  4308.738685\n",
      "3 2023-04-30  261.715131  4112.926272\n",
      "4 2023-05-31  262.739589  4391.631797\n",
      "5 2023-06-30  260.086319  4400.890027\n",
      "6 2023-07-31  262.723282  4258.176741\n",
      "7 2023-08-31  262.219749  4157.635227\n",
      "8 2023-09-30  263.390731  3983.387308\n",
      "9 2023-10-31  257.861829  4246.850915\n",
      "\n",
      "assistant > The DataFrame named `df`, with the columns 'DATE', 'CPI', and 'SPX', has been successfully created and contains 10 consecutive end of month dates, alongside plausible values for CPI and SPX. The DataFrame `df` is saved as a global variable and can be accessed throughout this script for any further operations or queries you might have."
     ]
    }
   ],
   "source": [
    "message = client.beta.threads.messages.create(\n",
    "  thread_id=thread.id,\n",
    "  role=\"user\",\n",
    "  content=\"Create a dataframe with 3 columns: 'DATE', 'CPI' and 'SPX'. 10 consecutive end of month dates,\\\n",
    "  and plausible values for CPI and SPX. Save the results in a global variable I can access in this script.\"\n",
    ")\n",
    "\n",
    "with client.beta.threads.runs.stream(\n",
    "  thread_id=thread.id,\n",
    "  assistant_id=assistant.id,\n",
    "  event_handler=EventHandler(),\n",
    ") as stream:\n",
    "  stream.until_done()"
   ]
  },
  {
   "cell_type": "code",
   "execution_count": 26,
   "id": "44b25d5b-526c-4104-918c-70bb60c932d7",
   "metadata": {},
   "outputs": [
    {
     "name": "stdout",
     "output_type": "stream",
     "text": [
      "\n",
      "assistant > To analyze the correlation between CPI levels and SPX levels one month ahead, I will shift the SPX column by one month so we can calculate the correlation between CPI at a given month and SPX in the following month. Here are the steps I'll perform:\n",
      "\n",
      "1. Shift the SPX data by one month.\n",
      "2. Calculate the correlation between the shifted SPX values and the current CPI values.\n",
      "3. Provide statistical summaries for both shifted and original data.\n",
      "4. Plot the data points to visually inspect the correlation.\n",
      "\n",
      "Let's carry out this analysis.\n",
      "assistant > code_interpreter\n",
      "\n",
      "# Create a copy of the dataframe for manipulation\n",
      "df_shifted = df.copy()\n",
      "\n",
      "# Shift the SPX data by one month (moving it one row up)\n",
      "df_shifted['SPX_shifted'] = df_shifted['SPX'].shift(-1)\n",
      "\n",
      "# Calculate correlation between current CPI and SPX one month ahead\n",
      "correlation = df_shifted['CPI'].corr(df_shifted['SPX_shifted'])\n",
      "\n",
      "# Statistical summaries\n",
      "stat_summary_cpi = df_shifted['CPI'].describe()\n",
      "stat_summary_spx_shifted = df_shifted['SPX_shifted'].describe()\n",
      "\n",
      "# Create plots\n",
      "fig, ax = plt.subplots(figsize=(12, 6))\n",
      "ax.scatter(df_shifted['DATE'], df_shifted['CPI'], color='blue', label='CPI')\n",
      "ax.scatter(df_shifted['DATE'], df_shifted['SPX_shifted'], color='red', label='SPX (next month)', alpha=0.6)\n",
      "ax.set_title('CPI and Shifted SPX Over Time')\n",
      "ax.set_xlabel('Date')\n",
      "ax.set_ylabel('Index Value')\n",
      "ax.legend()\n",
      "plt.grid(True)\n",
      "plt.show()\n",
      "\n",
      "correlation, stat_summary_cpi, stat_summary_spx_shifted\n",
      "\n",
      "output >\n",
      "\n",
      "assistant > ### Statistical Analysis Results:\n",
      "\n",
      "#### Correlation Analysis:\n",
      "The correlation coefficient between the CPI levels and SPX levels one month ahead is approximately **-0.05**. This suggests a very weak negative correlation, almost close to no correlation, between CPI values and SPX values in the subsequent month.\n",
      "\n",
      "#### Statistical Summary for CPI:\n",
      "- **Count**: 10 observations\n",
      "- **Mean**: 260.16\n",
      "- **Standard Deviation**: 2.78\n",
      "- **Minimum Value**: 255.57\n",
      "- **25th Percentile**: 257.93\n",
      "- **Median (50th Percentile)**: 260.90\n",
      "- **75th Percentile**: 262.60\n",
      "- **Maximum Value**: 263.39\n",
      "\n",
      "#### Statistical Summary for Shifted SPX (SPX levels one month ahead):\n",
      "- **Count**: 9 observations (one less due to the shift)\n",
      "- **Mean**: 4258.05\n",
      "- **Standard Deviation**: 153.78\n",
      "- **Minimum Value**: 3983.39\n",
      "- **25th Percentile**: 4157.64\n",
      "- **Median (50th Percentile)**: 4258.18\n",
      "- **75th Percentile**: 4391.63\n",
      "- **Maximum Value**: 4462.18\n",
      "\n",
      "### Visualization:\n",
      "The scatter plot displays the behavior of CPI and SPX (shifted for the next month) over time. The absence of a clear pattern or relationship aligns with the low correlation coefficient calculated.\n",
      "\n",
      "Based on this analysis, it's apparent that there is no significant correlation between the CPI level in a given month and the SPX level in the subsequent month. If further or deeper analysis is required, feel free to let me know!"
     ]
    }
   ],
   "source": [
    "message = client.beta.threads.messages.create(\n",
    "  thread_id=thread.id,\n",
    "  role=\"user\",\n",
    "  content=\" Fotgetting how this dataframe was created. Is there any correlation between CPI levels and SPX levels one month ahead? Give me a statistical analysis plotting results and statistical summary tables \"\n",
    ")\n",
    "\n",
    "with client.beta.threads.runs.stream(\n",
    "  thread_id=thread.id,\n",
    "  assistant_id=assistant.id,\n",
    "  instructions=\"Please address the user as Jane Doe. The user has a premium account.\",\n",
    "  event_handler=EventHandler(),\n",
    ") as stream:\n",
    "  stream.until_done()"
   ]
  },
  {
   "cell_type": "code",
   "execution_count": 27,
   "id": "7428e58d-a4d3-4c4b-9377-2cf48235f444",
   "metadata": {},
   "outputs": [
    {
     "name": "stdout",
     "output_type": "stream",
     "text": [
      "\n",
      "assistant > code_interpreter\n",
      "\n",
      "# Replotting the data for visual display or saving it as a PNG file if needed\n",
      "\n",
      "fig, ax = plt.subplots(figsize=(12, 6))\n",
      "ax.scatter(df_shifted['DATE'], df_shifted['CPI'], color='blue', label='CPI')\n",
      "ax.scatter(df_shifted['DATE'], df_shifted['SPX_shifted'], color='red', label='SPX (next month)', alpha=0.6)\n",
      "ax.set_title('CPI and Shifted SPX Over Time')\n",
      "ax.set_xlabel('Date')\n",
      "ax.set_ylabel('Index Value')\n",
      "ax.legend()\n",
      "plt.grid(True)\n",
      "\n",
      "# Save the plot as a PNG file in the current working directory\n",
      "plot_path = '/mnt/data/CPI_and_SPX_Correlation.png'\n",
      "plt.savefig(plot_path)\n",
      "plt.close()\n",
      "\n",
      "plot_path\n",
      "\n",
      "output >\n",
      "\n",
      "'/mnt/data/CPI_and_SPX_Correlation.png'\n",
      "\n",
      "assistant > I have saved the plot as a PNG file which displays the CPI and the SPX levels (shifted one month ahead). You can download the file from the following link:\n",
      "\n",
      "[Download CPI and SPX Correlation Plot](sandbox:/mnt/data/CPI_and_SPX_Correlation.png)\n",
      "\n",
      "Please let me know if there is anything else you need!None"
     ]
    }
   ],
   "source": [
    "message = client.beta.threads.messages.create(\n",
    "  thread_id=thread.id,\n",
    "  role=\"user\",\n",
    "  content=\" Can you display the plot results? if you're unable or unsure, can you save a png file in this workign directory? \"\n",
    ")\n",
    "\n",
    "with client.beta.threads.runs.stream(\n",
    "  thread_id=thread.id,\n",
    "  assistant_id=assistant.id,\n",
    "  instructions=\"Please address the user as Jane Doe. The user has a premium account.\",\n",
    "  event_handler=EventHandler(),\n",
    ") as stream:\n",
    "  stream.until_done()"
   ]
  },
  {
   "cell_type": "markdown",
   "id": "7b2bd39a-9bb8-4b61-b3a2-cf59e34d3a31",
   "metadata": {},
   "source": [
    "## Without streaming"
   ]
  },
  {
   "cell_type": "code",
   "execution_count": 9,
   "id": "56d8ff96-42f4-4ff1-81a3-8fd1be7fd53c",
   "metadata": {},
   "outputs": [],
   "source": [
    "run = client.beta.threads.runs.create_and_poll(\n",
    "  thread_id=thread.id,\n",
    "  assistant_id=assistant.id,\n",
    "  instructions=\"Please address the user as Jane Doe. The user has a premium account.\"\n",
    ")"
   ]
  },
  {
   "cell_type": "code",
   "execution_count": 7,
   "id": "ff295a8c-475b-4d35-8bd1-4db2bee0f278",
   "metadata": {
    "scrolled": true
   },
   "outputs": [
    {
     "name": "stdout",
     "output_type": "stream",
     "text": [
      "SyncCursorPage[Message](data=[Message(id='msg_TgJeFa99RhTwmYBmi50Rl1nD', assistant_id='asst_MnZkDAPQFYW72gyJivdPnmHU', completed_at=None, content=[TextContentBlock(text=Text(annotations=[], value='After solving the equation \\\\(3x + 11 = 14\\\\), we find that \\\\(x = 1\\\\). If you have any more questions or need further assistance, feel free to ask, Jane Doe!'), type='text')], created_at=1713631724, file_ids=[], incomplete_at=None, incomplete_details=None, metadata={}, object='thread.message', role='assistant', run_id='run_a4FIJBV68wF6cceZ3r4081Ze', status=None, thread_id='thread_i7ZeJHttx790f62MpEYisdCN'), Message(id='msg_O2KXKTN9suoEnYdVbsUknoY5', assistant_id='asst_MnZkDAPQFYW72gyJivdPnmHU', completed_at=None, content=[TextContentBlock(text=Text(annotations=[], value=\"Certainly, Jane Doe! To solve the equation \\\\(3x + 11 = 14\\\\), let's first isolate the variable \\\\(x\\\\). We'll start by subtracting 11 from both sides of the equation. Let's do that now.\"), type='text')], created_at=1713631714, file_ids=[], incomplete_at=None, incomplete_details=None, metadata={}, object='thread.message', role='assistant', run_id='run_a4FIJBV68wF6cceZ3r4081Ze', status=None, thread_id='thread_i7ZeJHttx790f62MpEYisdCN'), Message(id='msg_79I5WL03xgG1du4EhsrlN1jS', assistant_id='asst_MnZkDAPQFYW72gyJivdPnmHU', completed_at=None, content=[TextContentBlock(text=Text(annotations=[], value='After solving the equation \\\\(3x + 11 = 14\\\\), we find that \\\\(x = 1\\\\). If you have any more questions or need further assistance, feel free to ask, Jane Doe!'), type='text')], created_at=1713631635, file_ids=[], incomplete_at=None, incomplete_details=None, metadata={}, object='thread.message', role='assistant', run_id='run_ebZTKm4AUySUBzE75hRJBLr4', status=None, thread_id='thread_i7ZeJHttx790f62MpEYisdCN'), Message(id='msg_SrAHYIbu3UTnUkNUJi2ICTS7', assistant_id='asst_MnZkDAPQFYW72gyJivdPnmHU', completed_at=None, content=[TextContentBlock(text=Text(annotations=[], value=\"Certainly, Jane Doe! To solve the equation \\\\(3x + 11 = 14\\\\), let's first isolate the variable \\\\(x\\\\). We'll start by subtracting 11 from both sides of the equation. Let's do that now.\"), type='text')], created_at=1713631621, file_ids=[], incomplete_at=None, incomplete_details=None, metadata={}, object='thread.message', role='assistant', run_id='run_ebZTKm4AUySUBzE75hRJBLr4', status=None, thread_id='thread_i7ZeJHttx790f62MpEYisdCN'), Message(id='msg_49oDg6nJj1tHC0T1nJUilrKW', assistant_id=None, completed_at=None, content=[TextContentBlock(text=Text(annotations=[], value='I need to solve the equation `3x + 11 = 14`. Can you help me?'), type='text')], created_at=1713631539, file_ids=[], incomplete_at=None, incomplete_details=None, metadata={}, object='thread.message', role='user', run_id=None, status=None, thread_id='thread_i7ZeJHttx790f62MpEYisdCN')], object='list', first_id='msg_TgJeFa99RhTwmYBmi50Rl1nD', last_id='msg_49oDg6nJj1tHC0T1nJUilrKW', has_more=False)\n"
     ]
    }
   ],
   "source": [
    "if run.status == 'completed': \n",
    "  messages = client.beta.threads.messages.list(\n",
    "    thread_id=thread.id\n",
    "  )\n",
    "  print(messages)\n",
    "else:\n",
    "  print(run.status)"
   ]
  },
  {
   "cell_type": "code",
   "execution_count": null,
   "id": "953c2b6d-9438-4a20-85ba-41622f79b9f8",
   "metadata": {},
   "outputs": [],
   "source": []
  }
 ],
 "metadata": {
  "kernelspec": {
   "display_name": "Python 3 (ipykernel)",
   "language": "python",
   "name": "python3"
  },
  "language_info": {
   "codemirror_mode": {
    "name": "ipython",
    "version": 3
   },
   "file_extension": ".py",
   "mimetype": "text/x-python",
   "name": "python",
   "nbconvert_exporter": "python",
   "pygments_lexer": "ipython3",
   "version": "3.11.7"
  }
 },
 "nbformat": 4,
 "nbformat_minor": 5
}

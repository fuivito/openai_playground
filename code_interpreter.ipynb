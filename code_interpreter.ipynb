{
 "cells": [
  {
   "cell_type": "code",
   "execution_count": 1,
   "id": "0aa65640-748c-42a3-ba15-4e4e290df380",
   "metadata": {},
   "outputs": [],
   "source": [
    "from openai import OpenAI\n",
    "client = OpenAI()\n",
    "  \n",
    "assistant = client.beta.assistants.create(\n",
    "  name=\"Math Tutor\",\n",
    "  instructions=\"You are a personal math tutor. Write and run code to answer math questions.\",\n",
    "  tools=[{\"type\": \"code_interpreter\"}],\n",
    "  model=\"gpt-4-turbo\",\n",
    ")"
   ]
  },
  {
   "cell_type": "code",
   "execution_count": 2,
   "id": "56dcfef9-f397-4012-baf2-39c53034c1f4",
   "metadata": {},
   "outputs": [],
   "source": [
    "thread = client.beta.threads.create()"
   ]
  },
  {
   "cell_type": "code",
   "execution_count": 3,
   "id": "7a993dd4-21f9-4934-a19a-249b63272ca1",
   "metadata": {},
   "outputs": [],
   "source": [
    "message = client.beta.threads.messages.create(\n",
    "  thread_id=thread.id,\n",
    "  role=\"user\",\n",
    "  content=\"I need to solve the equation `3x + 11 = 14`. Can you help me?\"\n",
    ")"
   ]
  },
  {
   "cell_type": "code",
   "execution_count": 4,
   "id": "2cf85a98-5636-41cf-b858-9a2480e7014b",
   "metadata": {},
   "outputs": [
    {
     "data": {
      "text/plain": [
       "Message(id='msg_49oDg6nJj1tHC0T1nJUilrKW', assistant_id=None, completed_at=None, content=[TextContentBlock(text=Text(annotations=[], value='I need to solve the equation `3x + 11 = 14`. Can you help me?'), type='text')], created_at=1713631539, file_ids=[], incomplete_at=None, incomplete_details=None, metadata={}, object='thread.message', role='user', run_id=None, status=None, thread_id='thread_i7ZeJHttx790f62MpEYisdCN')"
      ]
     },
     "execution_count": 4,
     "metadata": {},
     "output_type": "execute_result"
    }
   ],
   "source": [
    "message"
   ]
  },
  {
   "cell_type": "code",
   "execution_count": null,
   "id": "df5e8809-ebc8-4e54-9910-9f520f6f7d13",
   "metadata": {},
   "outputs": [],
   "source": []
  },
  {
   "cell_type": "code",
   "execution_count": 5,
   "id": "cc7c5b52-4b19-4e89-9987-4e52a8c046d1",
   "metadata": {},
   "outputs": [
    {
     "name": "stdout",
     "output_type": "stream",
     "text": [
      "\n",
      "assistant > Certainly, Jane Doe! To solve the equation \\(3x + 11 = 14\\), let's first isolate the variable \\(x\\). We'll start by subtracting 11 from both sides of the equation. Let's do that now.\n",
      "assistant > code_interpreter\n",
      "\n",
      "from sympy import symbols, Eq, solve\n",
      "\n",
      "x = symbols('x')\n",
      "equation = Eq(3 * x + 11, 14)\n",
      "solution = solve(equation, x)\n",
      "solution\n",
      "\n",
      "output >\n",
      "\n",
      "[1]\n",
      "\n",
      "assistant > After solving the equation \\(3x + 11 = 14\\), we find that \\(x = 1\\). If you have any more questions or need further assistance, feel free to ask, Jane Doe!"
     ]
    }
   ],
   "source": [
    "from typing_extensions import override\n",
    "from openai import AssistantEventHandler\n",
    " \n",
    "# First, we create a EventHandler class to define\n",
    "# how we want to handle the events in the response stream.\n",
    " \n",
    "class EventHandler(AssistantEventHandler):    \n",
    "  @override\n",
    "  def on_text_created(self, text) -> None:\n",
    "    print(f\"\\nassistant > \", end=\"\", flush=True)\n",
    "      \n",
    "  @override\n",
    "  def on_text_delta(self, delta, snapshot):\n",
    "    print(delta.value, end=\"\", flush=True)\n",
    "      \n",
    "  def on_tool_call_created(self, tool_call):\n",
    "    print(f\"\\nassistant > {tool_call.type}\\n\", flush=True)\n",
    "  \n",
    "  def on_tool_call_delta(self, delta, snapshot):\n",
    "    if delta.type == 'code_interpreter':\n",
    "      if delta.code_interpreter.input:\n",
    "        print(delta.code_interpreter.input, end=\"\", flush=True)\n",
    "      if delta.code_interpreter.outputs:\n",
    "        print(f\"\\n\\noutput >\", flush=True)\n",
    "        for output in delta.code_interpreter.outputs:\n",
    "          if output.type == \"logs\":\n",
    "            print(f\"\\n{output.logs}\", flush=True)\n",
    " \n",
    "# Then, we use the `stream` SDK helper \n",
    "# with the `EventHandler` class to create the Run \n",
    "# and stream the response.\n",
    " \n",
    "with client.beta.threads.runs.stream(\n",
    "  thread_id=thread.id,\n",
    "  assistant_id=assistant.id,\n",
    "  instructions=\"Please address the user as Jane Doe. The user has a premium account.\",\n",
    "  event_handler=EventHandler(),\n",
    ") as stream:\n",
    "  stream.until_done()"
   ]
  },
  {
   "cell_type": "markdown",
   "id": "7b2bd39a-9bb8-4b61-b3a2-cf59e34d3a31",
   "metadata": {},
   "source": [
    "## Without streaming"
   ]
  },
  {
   "cell_type": "code",
   "execution_count": 6,
   "id": "56d8ff96-42f4-4ff1-81a3-8fd1be7fd53c",
   "metadata": {},
   "outputs": [],
   "source": [
    "run = client.beta.threads.runs.create_and_poll(\n",
    "  thread_id=thread.id,\n",
    "  assistant_id=assistant.id,\n",
    "  instructions=\"Please address the user as Jane Doe. The user has a premium account.\"\n",
    ")"
   ]
  },
  {
   "cell_type": "code",
   "execution_count": 7,
   "id": "ff295a8c-475b-4d35-8bd1-4db2bee0f278",
   "metadata": {},
   "outputs": [
    {
     "name": "stdout",
     "output_type": "stream",
     "text": [
      "SyncCursorPage[Message](data=[Message(id='msg_TgJeFa99RhTwmYBmi50Rl1nD', assistant_id='asst_MnZkDAPQFYW72gyJivdPnmHU', completed_at=None, content=[TextContentBlock(text=Text(annotations=[], value='After solving the equation \\\\(3x + 11 = 14\\\\), we find that \\\\(x = 1\\\\). If you have any more questions or need further assistance, feel free to ask, Jane Doe!'), type='text')], created_at=1713631724, file_ids=[], incomplete_at=None, incomplete_details=None, metadata={}, object='thread.message', role='assistant', run_id='run_a4FIJBV68wF6cceZ3r4081Ze', status=None, thread_id='thread_i7ZeJHttx790f62MpEYisdCN'), Message(id='msg_O2KXKTN9suoEnYdVbsUknoY5', assistant_id='asst_MnZkDAPQFYW72gyJivdPnmHU', completed_at=None, content=[TextContentBlock(text=Text(annotations=[], value=\"Certainly, Jane Doe! To solve the equation \\\\(3x + 11 = 14\\\\), let's first isolate the variable \\\\(x\\\\). We'll start by subtracting 11 from both sides of the equation. Let's do that now.\"), type='text')], created_at=1713631714, file_ids=[], incomplete_at=None, incomplete_details=None, metadata={}, object='thread.message', role='assistant', run_id='run_a4FIJBV68wF6cceZ3r4081Ze', status=None, thread_id='thread_i7ZeJHttx790f62MpEYisdCN'), Message(id='msg_79I5WL03xgG1du4EhsrlN1jS', assistant_id='asst_MnZkDAPQFYW72gyJivdPnmHU', completed_at=None, content=[TextContentBlock(text=Text(annotations=[], value='After solving the equation \\\\(3x + 11 = 14\\\\), we find that \\\\(x = 1\\\\). If you have any more questions or need further assistance, feel free to ask, Jane Doe!'), type='text')], created_at=1713631635, file_ids=[], incomplete_at=None, incomplete_details=None, metadata={}, object='thread.message', role='assistant', run_id='run_ebZTKm4AUySUBzE75hRJBLr4', status=None, thread_id='thread_i7ZeJHttx790f62MpEYisdCN'), Message(id='msg_SrAHYIbu3UTnUkNUJi2ICTS7', assistant_id='asst_MnZkDAPQFYW72gyJivdPnmHU', completed_at=None, content=[TextContentBlock(text=Text(annotations=[], value=\"Certainly, Jane Doe! To solve the equation \\\\(3x + 11 = 14\\\\), let's first isolate the variable \\\\(x\\\\). We'll start by subtracting 11 from both sides of the equation. Let's do that now.\"), type='text')], created_at=1713631621, file_ids=[], incomplete_at=None, incomplete_details=None, metadata={}, object='thread.message', role='assistant', run_id='run_ebZTKm4AUySUBzE75hRJBLr4', status=None, thread_id='thread_i7ZeJHttx790f62MpEYisdCN'), Message(id='msg_49oDg6nJj1tHC0T1nJUilrKW', assistant_id=None, completed_at=None, content=[TextContentBlock(text=Text(annotations=[], value='I need to solve the equation `3x + 11 = 14`. Can you help me?'), type='text')], created_at=1713631539, file_ids=[], incomplete_at=None, incomplete_details=None, metadata={}, object='thread.message', role='user', run_id=None, status=None, thread_id='thread_i7ZeJHttx790f62MpEYisdCN')], object='list', first_id='msg_TgJeFa99RhTwmYBmi50Rl1nD', last_id='msg_49oDg6nJj1tHC0T1nJUilrKW', has_more=False)\n"
     ]
    }
   ],
   "source": [
    "if run.status == 'completed': \n",
    "  messages = client.beta.threads.messages.list(\n",
    "    thread_id=thread.id\n",
    "  )\n",
    "  print(messages)\n",
    "else:\n",
    "  print(run.status)"
   ]
  },
  {
   "cell_type": "code",
   "execution_count": null,
   "id": "953c2b6d-9438-4a20-85ba-41622f79b9f8",
   "metadata": {},
   "outputs": [],
   "source": []
  }
 ],
 "metadata": {
  "kernelspec": {
   "display_name": "Python 3 (ipykernel)",
   "language": "python",
   "name": "python3"
  },
  "language_info": {
   "codemirror_mode": {
    "name": "ipython",
    "version": 3
   },
   "file_extension": ".py",
   "mimetype": "text/x-python",
   "name": "python",
   "nbconvert_exporter": "python",
   "pygments_lexer": "ipython3",
   "version": "3.11.7"
  }
 },
 "nbformat": 4,
 "nbformat_minor": 5
}

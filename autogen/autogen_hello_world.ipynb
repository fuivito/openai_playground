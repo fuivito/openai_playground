{
 "cells": [
  {
   "cell_type": "code",
   "execution_count": 1,
   "id": "5d74ed23-0c40-4fbb-afcf-d7ebf41d5d5b",
   "metadata": {},
   "outputs": [
    {
     "name": "stderr",
     "output_type": "stream",
     "text": [
      "C:\\Users\\milen\\anaconda3\\Lib\\site-packages\\paramiko\\transport.py:219: CryptographyDeprecationWarning: Blowfish has been deprecated and will be removed in a future release\n",
      "  \"class\": algorithms.Blowfish,\n"
     ]
    }
   ],
   "source": [
    "from pathlib import Path\n",
    "\n",
    "from autogen.coding import CodeBlock, LocalCommandLineCodeExecutor\n",
    "from autogen import ConversableAgent\n",
    "\n",
    "work_dir = Path(\"./autogen/agent_code\")\n",
    "work_dir.mkdir(exist_ok=True)"
   ]
  },
  {
   "cell_type": "code",
   "execution_count": 2,
   "id": "08b8a1c4-3fcf-4771-b45c-cb4c557fc01b",
   "metadata": {},
   "outputs": [
    {
     "data": {
      "text/plain": [
       "'C:\\\\Users\\\\milen\\\\git\\\\openai_playground'"
      ]
     },
     "execution_count": 2,
     "metadata": {},
     "output_type": "execute_result"
    }
   ],
   "source": [
    "pwd"
   ]
  },
  {
   "cell_type": "code",
   "execution_count": 3,
   "id": "9b0f6a40-04f0-4354-a40b-51ad71535c1e",
   "metadata": {},
   "outputs": [],
   "source": [
    "\n",
    "executor = LocalCommandLineCodeExecutor(work_dir=work_dir)"
   ]
  },
  {
   "cell_type": "code",
   "execution_count": 4,
   "id": "d845fb75-8d4f-4e44-927c-2f22b79ced3a",
   "metadata": {},
   "outputs": [],
   "source": [
    "code_executor_agent = ConversableAgent(\n",
    "    name=\"code_executor_agent\",\n",
    "    llm_config=False,\n",
    "    code_execution_config={\n",
    "        \"executor\": executor,\n",
    "    },\n",
    "    human_input_mode=\"ALWAYS\",\n",
    ")\n"
   ]
  },
  {
   "cell_type": "code",
   "execution_count": 5,
   "id": "c6497ed9-00da-4afb-98df-b7d275c2c875",
   "metadata": {},
   "outputs": [],
   "source": [
    "# The code writer agent's system message is to instruct the LLM on how to\n",
    "# use the Jupyter code executor with IPython kernel.\n",
    "code_writer_system_message = \"\"\"\n",
    "You have been given coding capability to solve tasks using Python code.\n",
    "In the following cases, suggest python code (in a python coding block) or shell script (in a sh coding block) for the user to execute.\n",
    "    1. When you need to collect info, use the code to output the info you need, for example, browse or search the web, download/read a file, print the content of a webpage or a file, get the current date/time, check the operating system. After sufficient info is printed and the task is ready to be solved based on your language skill, you can solve the task by yourself.\n",
    "    2. When you need to perform some task with code, use the code to perform the task and output the result. Finish the task smartly.\n",
    "Solve the task step by step if you need to. If a plan is not provided, explain your plan first. Be clear which step uses code, and which step uses your language skill.\n",
    "When using code, you must indicate the script type in the code block. The user cannot provide any other feedback or perform any other action beyond executing the code you suggest. The user can't modify your code. So do not suggest incomplete code which requires users to modify. Don't use a code block if it's not intended to be executed by the user.\n",
    "If you want the user to save the code in a file before executing it, put # filename: <filename> inside the code block as the first line. Don't include multiple code blocks in one response. Do not ask users to copy and paste the result. Instead, use 'print' function for the output when relevant. Check the execution result returned by the user.\n",
    "\"\"\"\n",
    "\n",
    "import os\n",
    "\n",
    "code_writer_agent = ConversableAgent(\n",
    "    \"code_writer\",\n",
    "    system_message=code_writer_system_message,\n",
    "    llm_config={\"config_list\": [{\"model\": \"gpt-4\", \"api_key\": os.environ[\"OPENAI_API_KEY\"]}]},\n",
    "    code_execution_config=False,  # Turn off code execution for this agent.\n",
    "    max_consecutive_auto_reply=2,\n",
    "    human_input_mode=\"NEVER\",\n",
    ")"
   ]
  },
  {
   "cell_type": "code",
   "execution_count": 6,
   "id": "771b5a31-9f8d-4ad8-bd96-e0c494b42b7b",
   "metadata": {},
   "outputs": [
    {
     "name": "stdout",
     "output_type": "stream",
     "text": [
      "\u001b[33mcode_executor_agent\u001b[0m (to code_writer):\n",
      "\n",
      "Plot a scatterplot where x=[1,2,3,4,5] and y=[1,2,3,4,5].save the result in this working directory\n",
      "\n",
      "--------------------------------------------------------------------------------\n",
      "\u001b[33mcode_writer\u001b[0m (to code_executor_agent):\n",
      "\n",
      "Here is a python code using matplotlib.pyplot library for plotting the scatter plot:\n",
      "\n",
      "```python\n",
      "import matplotlib.pyplot as plt\n",
      "\n",
      "x=[1,2,3,4,5]\n",
      "y=[1,2,3,4,5]\n",
      "\n",
      "plt.scatter(x, y)\n",
      "plt.title('Scatter plot')\n",
      "plt.xlabel('x')\n",
      "plt.ylabel('y')\n",
      "\n",
      "plt.savefig('scatter_plot.png')\n",
      "```\n",
      "\n",
      "You should save the Python code in a file (say, `scatter_plot.py`) and run this file. After running this script, a file `scatter_plot.png` with the scatter plot will be saved in your current working directory. \n",
      "\n",
      "You can open this image using any image viewer to see the scatter plot.\n",
      "\n",
      "--------------------------------------------------------------------------------\n"
     ]
    },
    {
     "name": "stdin",
     "output_type": "stream",
     "text": [
      "Provide feedback to code_writer. Press enter to skip and use auto-reply, or type 'exit' to end the conversation:  \n"
     ]
    },
    {
     "name": "stdout",
     "output_type": "stream",
     "text": [
      "\u001b[31m\n",
      ">>>>>>>> NO HUMAN INPUT RECEIVED.\u001b[0m\n",
      "\u001b[31m\n",
      ">>>>>>>> USING AUTO REPLY...\u001b[0m\n",
      "\u001b[31m\n",
      ">>>>>>>> EXECUTING CODE BLOCK (inferred language is python)...\u001b[0m\n",
      "\u001b[33mcode_executor_agent\u001b[0m (to code_writer):\n",
      "\n",
      "exitcode: 0 (execution succeeded)\n",
      "Code output: \n",
      "\n",
      "--------------------------------------------------------------------------------\n",
      "\u001b[33mcode_writer\u001b[0m (to code_executor_agent):\n",
      "\n",
      "Great! The code executed successfully. The scatter plot image named 'scatter_plot.png' should now be in your working directory. You can view it using any image viewer or by browsing to the directory in your system's file explorer.\n",
      "\n",
      "--------------------------------------------------------------------------------\n"
     ]
    },
    {
     "name": "stdin",
     "output_type": "stream",
     "text": [
      "Provide feedback to code_writer. Press enter to skip and use auto-reply, or type 'exit' to end the conversation:  exit\n"
     ]
    },
    {
     "name": "stdout",
     "output_type": "stream",
     "text": [
      "ChatResult(chat_id=None,\n",
      "           chat_history=[{'content': 'Plot a scatterplot where x=[1,2,3,4,5] '\n",
      "                                     'and y=[1,2,3,4,5].save the result in '\n",
      "                                     'this working directory',\n",
      "                          'role': 'assistant'},\n",
      "                         {'content': 'Here is a python code using '\n",
      "                                     'matplotlib.pyplot library for plotting '\n",
      "                                     'the scatter plot:\\n'\n",
      "                                     '\\n'\n",
      "                                     '```python\\n'\n",
      "                                     'import matplotlib.pyplot as plt\\n'\n",
      "                                     '\\n'\n",
      "                                     'x=[1,2,3,4,5]\\n'\n",
      "                                     'y=[1,2,3,4,5]\\n'\n",
      "                                     '\\n'\n",
      "                                     'plt.scatter(x, y)\\n'\n",
      "                                     \"plt.title('Scatter plot')\\n\"\n",
      "                                     \"plt.xlabel('x')\\n\"\n",
      "                                     \"plt.ylabel('y')\\n\"\n",
      "                                     '\\n'\n",
      "                                     \"plt.savefig('scatter_plot.png')\\n\"\n",
      "                                     '```\\n'\n",
      "                                     '\\n'\n",
      "                                     'You should save the Python code in a '\n",
      "                                     'file (say, `scatter_plot.py`) and run '\n",
      "                                     'this file. After running this script, a '\n",
      "                                     'file `scatter_plot.png` with the scatter '\n",
      "                                     'plot will be saved in your current '\n",
      "                                     'working directory. \\n'\n",
      "                                     '\\n'\n",
      "                                     'You can open this image using any image '\n",
      "                                     'viewer to see the scatter plot.',\n",
      "                          'role': 'user'},\n",
      "                         {'content': 'exitcode: 0 (execution succeeded)\\n'\n",
      "                                     'Code output: ',\n",
      "                          'role': 'assistant'},\n",
      "                         {'content': 'Great! The code executed successfully. '\n",
      "                                     'The scatter plot image named '\n",
      "                                     \"'scatter_plot.png' should now be in your \"\n",
      "                                     'working directory. You can view it using '\n",
      "                                     'any image viewer or by browsing to the '\n",
      "                                     \"directory in your system's file \"\n",
      "                                     'explorer.',\n",
      "                          'role': 'user'}],\n",
      "           summary='Great! The code executed successfully. The scatter plot '\n",
      "                   \"image named 'scatter_plot.png' should now be in your \"\n",
      "                   'working directory. You can view it using any image viewer '\n",
      "                   \"or by browsing to the directory in your system's file \"\n",
      "                   'explorer.',\n",
      "           cost={'usage_excluding_cached_inference': {'total_cost': 0},\n",
      "                 'usage_including_cached_inference': {'gpt-4-0613': {'completion_tokens': 189,\n",
      "                                                                     'cost': 0.0399,\n",
      "                                                                     'prompt_tokens': 952,\n",
      "                                                                     'total_tokens': 1141},\n",
      "                                                      'total_cost': 0.0399}},\n",
      "           human_input=['', 'exit'])\n"
     ]
    }
   ],
   "source": [
    "import pprint\n",
    "\n",
    "chat_result = code_executor_agent.initiate_chat(\n",
    "    code_writer_agent, message=\"Plot a scatterplot where x=[1,2,3,4,5] and y=[1,2,3,4,5].save the result in this working directory\"\n",
    ")\n",
    "\n",
    "pprint.pprint(chat_result)"
   ]
  },
  {
   "cell_type": "code",
   "execution_count": null,
   "id": "203598a4-2f88-4d25-a410-5c825b2928c3",
   "metadata": {},
   "outputs": [],
   "source": []
  }
 ],
 "metadata": {
  "kernelspec": {
   "display_name": "Python 3 (ipykernel)",
   "language": "python",
   "name": "python3"
  },
  "language_info": {
   "codemirror_mode": {
    "name": "ipython",
    "version": 3
   },
   "file_extension": ".py",
   "mimetype": "text/x-python",
   "name": "python",
   "nbconvert_exporter": "python",
   "pygments_lexer": "ipython3",
   "version": "3.11.7"
  }
 },
 "nbformat": 4,
 "nbformat_minor": 5
}

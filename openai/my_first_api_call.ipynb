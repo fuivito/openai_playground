{
 "cells": [
  {
   "cell_type": "code",
   "execution_count": 1,
   "id": "ee2328ca-a74f-4f1d-8d18-aee59800ec72",
   "metadata": {},
   "outputs": [],
   "source": [
    "from openai import OpenAI"
   ]
  },
  {
   "cell_type": "code",
   "execution_count": 3,
   "id": "28df4959-1738-447d-b513-63122e63fb88",
   "metadata": {},
   "outputs": [
    {
     "name": "stdout",
     "output_type": "stream",
     "text": [
      "ChatCompletionMessage(content='Certainly! In order to build a quantitative model to predict interest rate movements, we typically use historical data on various economic indicators, such as GDP growth, inflation rates, unemployment rates, central bank policy rates, etc. \\n\\nIf you provide me with a specific dataset containing relevant economic indicators and historical interest rates, I can help build a predictive model using Python. The most common approach for this type of modelling is using regression analysis or time series models like ARIMA or Prophet.\\n\\nPlease provide the data you have, and any specific goals or requirements you have for the model, and I can assist you in building the model.', role='assistant', function_call=None, tool_calls=None)\n"
     ]
    }
   ],
   "source": [
    "client = OpenAI()\n",
    "\n",
    "completion = client.chat.completions.create(\n",
    "  model=\"gpt-3.5-turbo\",\n",
    "  messages=[\n",
    "    {\"role\": \"system\", \"content\": \"You are an expert in quantitative financial modelling.\"},\n",
    "    {\"role\": \"user\", \"content\": \"Can you build a model in python to predict interest rates move if I give you some specific data?\"}\n",
    "  ]\n",
    ")\n",
    "\n",
    "print(completion.choices[0].message)"
   ]
  },
  {
   "cell_type": "code",
   "execution_count": null,
   "id": "c3d59205-78c1-44ab-8ed0-8ab57de0c1fa",
   "metadata": {},
   "outputs": [],
   "source": [
    "\n"
   ]
  }
 ],
 "metadata": {
  "kernelspec": {
   "display_name": "Python 3 (ipykernel)",
   "language": "python",
   "name": "python3"
  },
  "language_info": {
   "codemirror_mode": {
    "name": "ipython",
    "version": 3
   },
   "file_extension": ".py",
   "mimetype": "text/x-python",
   "name": "python",
   "nbconvert_exporter": "python",
   "pygments_lexer": "ipython3",
   "version": "3.11.7"
  }
 },
 "nbformat": 4,
 "nbformat_minor": 5
}
